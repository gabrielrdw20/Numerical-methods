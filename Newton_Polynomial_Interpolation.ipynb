{
 "cells": [
  {
   "cell_type": "markdown",
   "metadata": {},
   "source": [
    "# wyniki dla\n",
    "x = [0,2,3,5]\n",
    "\n",
    "\n",
    "y = [1,3,2,5]\n",
    "\n",
    "N = 4\n",
    "\n",
    "x^z, gdzie z to int(len(x)) - 1"
   ]
  },
  {
   "cell_type": "code",
   "execution_count": 120,
   "metadata": {},
   "outputs": [
    {
     "name": "stdout",
     "output_type": "stream",
     "text": [
      "Podaj liczbę węzłów N: 4\n"
     ]
    }
   ],
   "source": [
    "import numpy as np\n",
    "import pandas as pd\n",
    "import copy\n",
    "n = int(input('Podaj liczbę węzłów N: ')) # <-- podaj 4\n",
    "x = [[0.0]*n for x in range(n)]\n",
    "y = [[0.0]*n for x in range(n)]\n",
    "total = []\n",
    "counter = []\n",
    "basic = []\n",
    "basic.clear()\n",
    "final_array = []"
   ]
  },
  {
   "cell_type": "code",
   "execution_count": 121,
   "metadata": {},
   "outputs": [
    {
     "name": "stdout",
     "output_type": "stream",
     "text": [
      "Podaj wartości x-owe: \n",
      "x1: 0\n",
      "x2: 2\n",
      "x3: 3\n",
      "x4: 5\n",
      "\n",
      "\n",
      "Podaj wartości y-owe: \n",
      "y1: 1\n",
      "y2: 3\n",
      "y3: 2\n",
      "y4: 5\n"
     ]
    }
   ],
   "source": [
    "print('Podaj wartości x-owe: ')\n",
    "for i in range(n):\n",
    "    x[i] = float(input(f'x{i+1}: '))\n",
    "print('\\n')\n",
    "print('Podaj wartości y-owe: ')\n",
    "for i in range(n):\n",
    "    y[i] = float(input(f'y{i+1}: '))"
   ]
  },
  {
   "cell_type": "code",
   "execution_count": 122,
   "metadata": {},
   "outputs": [],
   "source": [
    "for i in reversed(range(n+1)): # tutal sprawdzam ile razy pojawią się wyliczenia dla 2,3,n elementów\n",
    "    while i > 1: \n",
    "        total.append(i)\n",
    "        i -= 1\n",
    "    \n",
    "total = sorted(total)"
   ]
  },
  {
   "cell_type": "code",
   "execution_count": 123,
   "metadata": {},
   "outputs": [],
   "source": [
    "for i in reversed(range(0,n+1)):\n",
    "    if i > 1:\n",
    "        number = total.count(i)\n",
    "        counter.append([i,number])\n",
    "    else:\n",
    "        pass\n",
    "    \n",
    "counter_len = int(len(counter))\n",
    "# <-- [4,1] oznacza, że f[x3,x2,x1,x0] będzie wyliczane raz\n",
    "# <-- [3,2] oznacza, że będziem wyliczać 2 razy, po 1 raz dla: f[x3,x2,x1] oraz f[x2,x1,x0], etc."
   ]
  },
  {
   "cell_type": "code",
   "execution_count": 124,
   "metadata": {},
   "outputs": [],
   "source": [
    "def first_step(counter_len,counter,x,y):\n",
    "    c = 0\n",
    "    d = 1\n",
    "    l  = int(len(counter)) - 1\n",
    "    new_len = int(counter[l][1]) \n",
    "    result = []\n",
    "    check  =  []\n",
    "    arr = []\n",
    "\n",
    "    for j in range(0,new_len): \n",
    "        if j < int(counter_len):\n",
    "            a = int(new_len - j)\n",
    "            b = a - 1\n",
    "\n",
    "            if (pd.to_numeric(x[a]) - pd.to_numeric(x[b])) != 0:\n",
    "                z = ([((pd.to_numeric(y[a]) - pd.to_numeric(y[b]))  / (pd.to_numeric(x[a]) - pd.to_numeric(x[b])))])\n",
    "                result.append(z)\n",
    "                if j == 0:\n",
    "                    arr.append(z)\n",
    "                    \n",
    "            else:\n",
    "                result.append(['ERROR'])\n",
    "        else:\n",
    "            break\n",
    "            \n",
    "\n",
    "    result = result[::-1]\n",
    "    return result, arr"
   ]
  },
  {
   "cell_type": "code",
   "execution_count": 125,
   "metadata": {},
   "outputs": [],
   "source": [
    "def rest_steps(basic,counter,x,y):\n",
    "    \n",
    "    counter = counter[:-1]\n",
    "    counter = counter[::-1]\n",
    "    counter_len = len(counter)\n",
    "    result = []\n",
    "    arr = []\n",
    "    \n",
    "    for k in range(0,counter_len): # <-- zakres od 0 do długości zmiennej counter, czyli dla każdego z elementór counter [ , ] \n",
    "        new_len = int(counter[k][1])\n",
    "        z = int(counter[k][0])\n",
    "        \n",
    "        c = int(counter[k][0]) - 1\n",
    "        \n",
    "        for j in range(0,new_len):      \n",
    "            if j < int(counter_len):\n",
    "                          # j = 0, 1, 2, ...\n",
    "                b = j + 1 # 1, 2, 3,  ...\n",
    "                \n",
    "                added = ( (pd.to_numeric(basic[b]) - pd.to_numeric(basic[j])) / (pd.to_numeric(x[c]) - pd.to_numeric(x[j])) )\n",
    "                #print(k, 'basic b: ', basic[b])\n",
    "                #print(k, 'basic_j: ', basic[j])\n",
    "                #print(j,'x_c: ',  x[c])\n",
    "                #print(j, 'x_j: ', x[j])\n",
    "                #print('----------------------------')\n",
    "                result.append(added)\n",
    "                if j == 0:\n",
    "                    arr.append(added)\n",
    "\n",
    "            else:\n",
    "                break\n",
    "                \n",
    "            c = c + 1\n",
    "\n",
    "        basic = result\n",
    "        b = z\n",
    "        \n",
    "    \n",
    "    return result, arr"
   ]
  },
  {
   "cell_type": "code",
   "execution_count": 135,
   "metadata": {},
   "outputs": [],
   "source": [
    "basic = first_step(counter_len,counter,x,y)[0] # stąd bierzemy wyniki dla f(x) 2-elementowych, np. f[x1-x0], f[x2-x1], etc.\n",
    "rest = rest_steps(basic,counter,x,y)[0] # stąd bierzemy wyniki dla większych f(x), np. f[x2,x1,x0], f[x3,x2,x1]\n",
    "\n",
    "final_array = [pd.to_numeric(basic[0][0])] # tu wybieramy schodkowo [x1,x0]\n",
    "rest_1 = rest_steps(basic,counter,x,y)[1] # tu wybieramy [x2,x1,x0] oraz [x3,x2,x1,x0]\n",
    "\n",
    "for i in range(len(rest_1)): # to są nasze złaczone [x1,x0] , [x2,x1,x0], [x3,x2,x1,x0]\n",
    "    final_array.append(rest_1[i].tolist())\n"
   ]
  },
  {
   "cell_type": "code",
   "execution_count": 139,
   "metadata": {},
   "outputs": [
    {
     "data": {
      "text/plain": [
       "[array([-0.66666667]), array([0.3])]"
      ]
     },
     "execution_count": 139,
     "metadata": {},
     "output_type": "execute_result"
    }
   ],
   "source": []
  },
  {
   "cell_type": "code",
   "execution_count": 140,
   "metadata": {},
   "outputs": [
    {
     "name": "stdout",
     "output_type": "stream",
     "text": [
      "Podaj wartość dla x: 4\n"
     ]
    }
   ],
   "source": [
    "x_input = input('Podaj wartość dla x: ')\n",
    "\n",
    "def wyliczenia(x_input, final_array,x,y,n):\n",
    "    x_n = pd.to_numeric(x_input)\n",
    "    \n",
    "    wynik_tmp = []\n",
    "    wynik_tmp2 = []\n",
    "    wynik_y = 0.0\n",
    "    wynik_fin = 0.0\n",
    "    xx = 1.0\n",
    "    suma = []\n",
    "    koniec = 0.0\n",
    "    \n",
    "    for i in range(1,n+1): # tworzymy listę, która pozwoli nam poruszać się po x-ach, e.g. 1 to xn_x0, 2 tp (xn-x0)*(xn-x1), etc.\n",
    "        suma.append(i)\n",
    "    \n",
    "    \n",
    "    for i in range(0,n):   # wpisujemy do listy kolejne zliczenia xn-x[i]\n",
    "        wynik_tmp.append( x_n - x[i])\n",
    "\n",
    "    \n",
    "    for j in range(0,n-1):\n",
    "        u = suma[j]\n",
    "        for i in range(0,u):\n",
    "            xx *=  wynik_tmp[i]\n",
    "           # print('--- --- ---')\n",
    "           # print('tmp: ',wynik_tmp[i])\n",
    "           # print('xx: ',xx)\n",
    "           # print('--- --- ---')\n",
    "        \n",
    "        wynik_tmp2.append(xx)\n",
    "        xx = 1.0\n",
    "        \n",
    "    \n",
    "    for i in range(0,n-1):\n",
    "        wynik_y += pd.to_numeric(wynik_tmp2[i]) * pd.to_numeric(final_array[i])\n",
    "        \n",
    "    \n",
    "    return pd.to_numeric(y[0]) + wynik_y"
   ]
  },
  {
   "cell_type": "code",
   "execution_count": 143,
   "metadata": {},
   "outputs": [
    {
     "name": "stdout",
     "output_type": "stream",
     "text": [
      "Wynik: [2.066666666666667]\n"
     ]
    }
   ],
   "source": [
    "fin = wyliczenia(x_input, final_array,x,y,n)\n",
    "print(f'Wynik: {list(flatten(fin))}')"
   ]
  },
  {
   "cell_type": "code",
   "execution_count": null,
   "metadata": {},
   "outputs": [],
   "source": []
  },
  {
   "cell_type": "code",
   "execution_count": null,
   "metadata": {},
   "outputs": [],
   "source": []
  },
  {
   "cell_type": "code",
   "execution_count": null,
   "metadata": {},
   "outputs": [],
   "source": []
  }
 ],
 "metadata": {
  "kernelspec": {
   "display_name": "Python 3",
   "language": "python",
   "name": "python3"
  },
  "language_info": {
   "codemirror_mode": {
    "name": "ipython",
    "version": 3
   },
   "file_extension": ".py",
   "mimetype": "text/x-python",
   "name": "python",
   "nbconvert_exporter": "python",
   "pygments_lexer": "ipython3",
   "version": "3.8.3"
  }
 },
 "nbformat": 4,
 "nbformat_minor": 2
}
