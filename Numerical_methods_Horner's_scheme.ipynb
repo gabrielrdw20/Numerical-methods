{
 "cells": [
  {
   "cell_type": "markdown",
   "metadata": {},
   "source": [
    "# 1. Obliczenia za pomocą schematu Hornera wartość liczby w innym systemie pozycyjnym"
   ]
  },
  {
   "cell_type": "code",
   "execution_count": 17,
   "metadata": {},
   "outputs": [
    {
     "name": "stdout",
     "output_type": "stream",
     "text": [
      "Z jakiego systemu konwertujemy na base_10: 7\n",
      "Podaj liczbę do przekonwertowania: 124451\n",
      "\n",
      " Wyik:  124451 base_( 7 ) =  23213 base_( 10 )\n"
     ]
    }
   ],
   "source": [
    "# HORNER ------------------------------------------------------\n",
    "import sys\n",
    "\n",
    "x_str = input('Z jakiego systemu konwertujemy na base_10: ')\n",
    "y_str = 10\n",
    "liczba_str = input('Podaj liczbę do przekonwertowania: ')\n",
    "liczba_int = int(liczba_str)\n",
    "x = int(x_str)\n",
    "\n",
    "liczba = list(liczba_str)\n",
    "lenght = len(liczba)\n",
    "container = []\n",
    "container_2 = []\n",
    "\n",
    "for i in range(lenght):\n",
    "    result = int(liczba[i])\n",
    "    container.append(result)\n",
    "    \n",
    "suma = 0\n",
    "start = 0\n",
    "start = container[0] * x + container[1]\n",
    "new_len = container[2:]\n",
    "    \n",
    "if(lenght == 1):\n",
    "    a = str(container[0])\n",
    "    print('\\nWynik w systemie',y_str,'=',a,'\\n')\n",
    "        \n",
    "elif(lenght == 2):\n",
    "    output = container[0] * x + container[1]\n",
    "    print('\\nWynik w systemie',y_str,'=',output,'\\n')\n",
    "        \n",
    "elif(lenght>2):\n",
    "    for i in range(len(new_len)):\n",
    "        suma = start * x + new_len[i]\n",
    "        start = suma\n",
    "\n",
    "    print('\\n','Wyik: ',liczba_str,'base_(', x_str,') = ', suma, 'base_( 10 )')  "
   ]
  },
  {
   "cell_type": "code",
   "execution_count": null,
   "metadata": {},
   "outputs": [],
   "source": [
    "sys.modules[__name__].__dict__.clear()"
   ]
  },
  {
   "cell_type": "code",
   "execution_count": null,
   "metadata": {},
   "outputs": [],
   "source": []
  },
  {
   "cell_type": "code",
   "execution_count": null,
   "metadata": {},
   "outputs": [],
   "source": []
  }
 ],
 "metadata": {
  "kernelspec": {
   "display_name": "Python 3",
   "language": "python",
   "name": "python3"
  },
  "language_info": {
   "codemirror_mode": {
    "name": "ipython",
    "version": 3
   },
   "file_extension": ".py",
   "mimetype": "text/x-python",
   "name": "python",
   "nbconvert_exporter": "python",
   "pygments_lexer": "ipython3",
   "version": "3.8.3"
  }
 },
 "nbformat": 4,
 "nbformat_minor": 2
}
