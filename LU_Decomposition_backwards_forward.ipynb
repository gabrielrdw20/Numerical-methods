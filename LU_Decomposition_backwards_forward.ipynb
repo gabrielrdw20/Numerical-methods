{
 "cells": [
  {
   "cell_type": "code",
   "execution_count": 46,
   "metadata": {},
   "outputs": [],
   "source": [
    "def Doolittle(macierz,n):\n",
    "    \n",
    "    U = [[0.0]*n for x in range(n)]\n",
    "    L = [[0.0]*n for x in range(n)]\n",
    "\n",
    "    for i in range(0,n):\n",
    "        for k in range(i, n):\n",
    "            suma = sum([L[i][j] * U[j][k] for j in range(i)])\n",
    "            U[i][k] = macierz[i][k] - suma\n",
    "        for k in range(i, n):\n",
    "            if i == k:\n",
    "                L[i][i] = 1\n",
    "                continue\n",
    "            suma = sum([L[k][j] * U[j][i] for j in range(i)])\n",
    "            L[k][i] = (macierz[k][i] - suma) / U[i][i]\n",
    "    return [L,U]"
   ]
  },
  {
   "cell_type": "code",
   "execution_count": 47,
   "metadata": {},
   "outputs": [],
   "source": [
    "def Crout(macierz,n):\n",
    "   \n",
    "    U = [[0] * n for i in range(n)]\n",
    "    L = [[0] * n for i in range(n)]\n",
    "\n",
    "    for j in range(n):\n",
    "        U[j][j] = 1           \n",
    "        for i in range(j, n): \n",
    "            alpha = float(macierz[i][j])\n",
    "            for k in range(j):\n",
    "                alpha -= L[i][k]*U[k][j]\n",
    "            L[i][j] = alpha\n",
    "        for i in range(j+1, n):\n",
    "            tempU = float(macierz[j][i])\n",
    "            for k in range(j):\n",
    "                tempU -= L[j][k]*U[k][i]\n",
    "            if int(L[j][j]) == 0:\n",
    "                L[j][j] = e-40\n",
    "            U[j][i] = tempU/L[j][j]\n",
    "\n",
    "    return [L,U]"
   ]
  },
  {
   "cell_type": "code",
   "execution_count": 48,
   "metadata": {},
   "outputs": [],
   "source": [
    "def forward_D(L_D,B,n,y):\n",
    "    suma = 0.0\n",
    "    for i in range(n):\n",
    "        for j in range(0,n):\n",
    "            if i <0:\n",
    "                suma = 0.0\n",
    "            else:\n",
    "                suma += (L_D[i][j] * pd.to_numeric(y[j]))\n",
    "        y[i] = (B[i] - suma) / L_D[i][i] \n",
    "        suma = 0.0\n",
    "    return y"
   ]
  },
  {
   "cell_type": "code",
   "execution_count": 49,
   "metadata": {},
   "outputs": [],
   "source": [
    "def backward_D(final_y_D,x,n,U_D):\n",
    "    suma = 0.0\n",
    "    for i in reversed(range(n)):\n",
    "        for j in range(0,n):\n",
    "            if i == n-1:\n",
    "                suma = 0.0\n",
    "            else:\n",
    "                suma += (U_D[i][j] * pd.to_numeric(x[j]))\n",
    "        x[i] = (pd.to_numeric(final_y_D[i]) - suma) / U_D[i][i]\n",
    "        suma = 0.0\n",
    "    return x       "
   ]
  },
  {
   "cell_type": "code",
   "execution_count": 50,
   "metadata": {},
   "outputs": [],
   "source": [
    "def forward_C(L_C,B,n,y1):\n",
    "    suma = 0.0\n",
    "    for j in range(n):\n",
    "        for i in range(0,n):\n",
    "            if i <0:\n",
    "                suma = 0.0\n",
    "            else:\n",
    "                suma += (L_C[j][i] * pd.to_numeric(y1[i]))\n",
    "        y1[j] = (B[j] - suma) / L_C[j][j] \n",
    "        suma = 0.0\n",
    "    return y1"
   ]
  },
  {
   "cell_type": "code",
   "execution_count": 51,
   "metadata": {},
   "outputs": [],
   "source": [
    "def backward_C(final_y_C,x1,n,U_C):\n",
    "    suma = 0.0\n",
    "    for i in reversed(range(n)):\n",
    "        for j in range(0,n):\n",
    "            if i == n-1:\n",
    "                suma = 0.0\n",
    "            else:\n",
    "                suma += (U_C[j][i] * pd.to_numeric(x1[i]))\n",
    "        x1[j] = (pd.to_numeric(final_y_C[j]) - suma) / U_C[j][j]\n",
    "        suma = 0.0\n",
    "    return x "
   ]
  },
  {
   "cell_type": "code",
   "execution_count": 52,
   "metadata": {},
   "outputs": [
    {
     "name": "stdout",
     "output_type": "stream",
     "text": [
      "Podaj liczbę równań: 3\n",
      "Podaj wartość przy x dla x^1 dla równania nr 1: 5\n",
      "Podaj wartość przy x dla x^2 dla równania nr 1: 3\n",
      "Podaj wartość przy x dla x^3 dla równania nr 1: 2\n",
      "Podaj wyraz wolny dla równania nr 1: 4\n",
      "\n",
      "\n",
      "Podaj wartość przy x dla x^1 dla równania nr 2: 1\n",
      "Podaj wartość przy x dla x^2 dla równania nr 2: 2\n",
      "Podaj wartość przy x dla x^3 dla równania nr 2: 0\n",
      "Podaj wyraz wolny dla równania nr 2: 6\n",
      "\n",
      "\n",
      "Podaj wartość przy x dla x^1 dla równania nr 3: 3\n",
      "Podaj wartość przy x dla x^2 dla równania nr 3: 0\n",
      "Podaj wartość przy x dla x^3 dla równania nr 3: 4\n",
      "Podaj wyraz wolny dla równania nr 3: 3\n",
      "\n",
      "\n"
     ]
    }
   ],
   "source": [
    "import numpy as np\n",
    "import pandas as pd\n",
    "import copy\n",
    "\n",
    "# Ax = B, gdzie B to macierz wyrazów wolnych\n",
    "# LUx = B\n",
    "# ly = B, gdzie y = Ux\n",
    "\n",
    "n = int(input('Podaj liczbę równań: '))\n",
    "lists = [[] for _ in range(n)]\n",
    "B = [[] for _ in range(n)]\n",
    "y = np.array([[0.0] for i in range(n)])\n",
    "x = np.array([[0.0] for i in range(n)])\n",
    "y1 = np.array([[0.0] for i in range(n)])\n",
    "x1 = np.array([[0.0] for i in range(n)])\n",
    "\n",
    "\n",
    "for j in range(n):\n",
    "    for i in range(n):\n",
    "        a = input(f'Podaj wartość przy x dla x^{i+1} dla równania nr {j+1}: ')\n",
    "        lists[j].append(int(a))\n",
    "    c = input(f'Podaj wyraz wolny dla równania nr {j+1}: ')\n",
    "    B[j].append(int(c))\n",
    "    print('\\n')\n",
    "    \n",
    "    \n",
    "A = np.array(lists) \n",
    "L_D = np.array(Doolittle(lists,n)[0])\n",
    "U_D = np.array(Doolittle(lists,n)[1])\n",
    "L_C = np.array(Crout(lists,n)[0])\n",
    "U_C = np.array(Crout(lists,n)[1])"
   ]
  },
  {
   "cell_type": "code",
   "execution_count": 53,
   "metadata": {},
   "outputs": [
    {
     "name": "stdout",
     "output_type": "stream",
     "text": [
      "---------DOOLITTLE---------\n",
      "A: \n",
      " [[5 3 2]\n",
      " [1 2 0]\n",
      " [3 0 4]] \n",
      "\n",
      "L: \n",
      " [[ 1.          0.          0.        ]\n",
      " [ 0.2         1.          0.        ]\n",
      " [ 0.6        -1.28571429  1.        ]] \n",
      "\n",
      "U: \n",
      " [[ 5.          3.          2.        ]\n",
      " [ 0.          1.4        -0.4       ]\n",
      " [ 0.          0.          2.28571429]]\n",
      "\n",
      "\n",
      "\n",
      "---------CROUT---------\n",
      "A: \n",
      " [[5 3 2]\n",
      " [1 2 0]\n",
      " [3 0 4]] \n",
      "\n",
      "L: \n",
      " [[ 5.          0.          0.        ]\n",
      " [ 1.          1.4         0.        ]\n",
      " [ 3.         -1.8         2.28571429]] \n",
      "\n",
      "U: \n",
      " [[ 1.          0.6         0.4       ]\n",
      " [ 0.          1.         -0.28571429]\n",
      " [ 0.          0.          1.        ]] \n",
      "\n",
      "----------------- \n",
      "\n",
      "Rozkład A = L * U, algorytm Doolittlea.\n",
      "Dla równania A * x = B, wartości x są następujące: \n",
      "\n",
      "x1 =  -3.25\n",
      "x2 =  4.625\n",
      "x3 =  3.1874999999999996\n",
      "\n",
      "\n",
      "----------------- \n",
      "\n",
      "Rozkład A = L * U, algorytm Croute.\n",
      "Dla równania A * x = B, wartości x są następujące: \n",
      "\n",
      "x1 =  -3.25\n",
      "x2 =  4.625\n",
      "x3 =  3.1874999999999996\n"
     ]
    }
   ],
   "source": [
    "print('---------DOOLITTLE---------' )\n",
    "print('A:','\\n',A,'\\n')\n",
    "print('L:','\\n',L_D,'\\n')\n",
    "print('U:','\\n',U_D)\n",
    "print('\\n\\n')\n",
    "\n",
    "print('---------CROUT---------' )\n",
    "print('A:','\\n',np.array(lists),'\\n')\n",
    "print('L:','\\n',L_C,'\\n')\n",
    "print('U:','\\n',U_C,'\\n')\n",
    "\n",
    "print('-----------------','\\n')\n",
    "final_y_D = copy.deepcopy(forward_D(L_D,B,n,y))\n",
    "final_x_D = backward_D(final_y_D,x,n,U_D)\n",
    "final_y_C = copy.deepcopy(forward_C(L_C,B,n,y1))\n",
    "final_x_C = copy.deepcopy(backward_C(final_y_C,x1,n,U_C))\n",
    "\n",
    "print('Rozkład A = L * U, algorytm Doolittle''a.')\n",
    "print('Dla równania A * x = B, wartości x są następujące:','\\n')\n",
    "for i in range(len(final_x_D)):\n",
    "    print(f'x{i+1} = ',\",\".join(repr(e) for e in final_x_D[i]))\n",
    "print('\\n')\n",
    "print('-----------------','\\n')\n",
    "print('Rozkład A = L * U, algorytm Crout''e.')\n",
    "print('Dla równania A * x = B, wartości x są następujące:','\\n')\n",
    "for i in range(len(final_x_C)):\n",
    "    print(f'x{i+1} = ',\",\".join(repr(e) for e in final_x_C[i]))"
   ]
  },
  {
   "cell_type": "code",
   "execution_count": 54,
   "metadata": {},
   "outputs": [
    {
     "data": {
      "text/plain": [
       "array([[0.8       ],\n",
       "       [3.71428571],\n",
       "       [3.1875    ]])"
      ]
     },
     "execution_count": 54,
     "metadata": {},
     "output_type": "execute_result"
    }
   ],
   "source": [
    "final_y_C"
   ]
  },
  {
   "cell_type": "code",
   "execution_count": 55,
   "metadata": {},
   "outputs": [
    {
     "data": {
      "text/plain": [
       "array([[4.        ],\n",
       "       [5.2       ],\n",
       "       [7.28571429]])"
      ]
     },
     "execution_count": 55,
     "metadata": {},
     "output_type": "execute_result"
    }
   ],
   "source": [
    "final_y_D"
   ]
  },
  {
   "cell_type": "code",
   "execution_count": null,
   "metadata": {},
   "outputs": [],
   "source": []
  },
  {
   "cell_type": "code",
   "execution_count": null,
   "metadata": {},
   "outputs": [],
   "source": []
  },
  {
   "cell_type": "code",
   "execution_count": null,
   "metadata": {},
   "outputs": [],
   "source": []
  },
  {
   "cell_type": "code",
   "execution_count": null,
   "metadata": {},
   "outputs": [],
   "source": []
  }
 ],
 "metadata": {
  "kernelspec": {
   "display_name": "Python 3",
   "language": "python",
   "name": "python3"
  },
  "language_info": {
   "codemirror_mode": {
    "name": "ipython",
    "version": 3
   },
   "file_extension": ".py",
   "mimetype": "text/x-python",
   "name": "python",
   "nbconvert_exporter": "python",
   "pygments_lexer": "ipython3",
   "version": "3.8.3"
  }
 },
 "nbformat": 4,
 "nbformat_minor": 2
}
